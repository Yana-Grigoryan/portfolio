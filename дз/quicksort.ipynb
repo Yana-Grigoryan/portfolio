{
  "metadata": {
    "kernelspec": {
      "name": "python",
      "display_name": "Python (Pyodide)",
      "language": "python"
    },
    "language_info": {
      "codemirror_mode": {
        "name": "python",
        "version": 3
      },
      "file_extension": ".py",
      "mimetype": "text/x-python",
      "name": "python",
      "nbconvert_exporter": "python",
      "pygments_lexer": "ipython3",
      "version": "3.8"
    }
  },
  "nbformat_minor": 4,
  "nbformat": 4,
  "cells": [
    {
      "cell_type": "code",
      "source": "import numpy as np\narr = np.round(np.random.random(10),3)  #для примера взяла 10 значений",
      "metadata": {
        "trusted": true
      },
      "outputs": [],
      "execution_count": 51
    },
    {
      "cell_type": "code",
      "source": "def quicksort(arr):\n    if len(arr) <= 1:\n     return arr\n    else:\n        pivot = arr[0]  #опорный элемент\n        left = [x for x in arr[1:] if x < pivot]\n        right = [x for x in arr[1:] if x >= pivot]\n        return quicksort(left) + [pivot] + quicksort(right)\n\nprint(arr)\nprint(quicksort(arr))",
      "metadata": {
        "trusted": true
      },
      "outputs": [
        {
          "name": "stdout",
          "text": "[0.977 0.757 0.331 0.055 0.173 0.267 0.753 0.632 0.554 0.598]\n[0.055, 0.173, 0.267, 0.331, 0.554, 0.598, 0.632, 0.753, 0.757, 0.977]\n",
          "output_type": "stream"
        }
      ],
      "execution_count": 52
    },
    {
      "cell_type": "code",
      "source": "",
      "metadata": {
        "trusted": true
      },
      "outputs": [],
      "execution_count": null
    }
  ]
}