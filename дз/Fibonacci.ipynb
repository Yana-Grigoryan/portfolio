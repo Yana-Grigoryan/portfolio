{
  "metadata": {
    "kernelspec": {
      "name": "python",
      "display_name": "Python (Pyodide)",
      "language": "python"
    },
    "language_info": {
      "codemirror_mode": {
        "name": "python",
        "version": 3
      },
      "file_extension": ".py",
      "mimetype": "text/x-python",
      "name": "python",
      "nbconvert_exporter": "python",
      "pygments_lexer": "ipython3",
      "version": "3.8"
    }
  },
  "nbformat_minor": 4,
  "nbformat": 4,
  "cells": [
    {
      "cell_type": "code",
      "source": "def fibonacci(n):\n    if n<= 0:\n        print(\"Некорректный ввод\")\n    elif n == 1:\n        return 0\n    elif n == 2:\n        return 1\n    else:\n        return Fibonacci(n-1)+Fibonacci(n-2)\n \nprint(Fibonacci(10))",
      "metadata": {
        "trusted": true
      },
      "outputs": [
        {
          "name": "stdout",
          "text": "34\n",
          "output_type": "stream"
        }
      ],
      "execution_count": 21
    },
    {
      "cell_type": "code",
      "source": "array = [0,1]\n \ndef Fibonacci_1(n):\n    if n<0:\n        print(\"Некорректный ввод\")\n    elif n<= len(array):\n        return array[n-1]\n    else:\n        temp_fib = Fibonacci_1(n-1)+Fibonacci_1(n-2)\n        array.append(temp_fib)\n        return temp_fib\n \n \nprint(Fibonacci_1(10))",
      "metadata": {
        "trusted": true
      },
      "outputs": [
        {
          "name": "stdout",
          "text": "34\n",
          "output_type": "stream"
        }
      ],
      "execution_count": 20
    },
    {
      "cell_type": "code",
      "source": "",
      "metadata": {
        "trusted": true
      },
      "outputs": [],
      "execution_count": null
    },
    {
      "cell_type": "code",
      "source": "",
      "metadata": {
        "trusted": true
      },
      "outputs": [],
      "execution_count": null
    }
  ]
}